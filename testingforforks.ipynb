{
 "cells": [
  {
   "cell_type": "code",
   "execution_count": 2,
   "id": "617ec876-70b9-417f-aec7-b8ad94a43ced",
   "metadata": {
    "scrolled": true
   },
   "outputs": [
    {
     "name": "stdout",
     "output_type": "stream",
     "text": [
      "Loading tokenizer...\n",
      "Loading model...\n",
      "Qwen 1.5-1.8B ready\n"
     ]
    }
   ],
   "source": [
    "from transformers import AutoTokenizer, AutoModelForCausalLM\n",
    "import torch\n",
    "\n",
    "model_name = \"Qwen/Qwen1.5-1.8B\"\n",
    "\n",
    "print(\"Loading tokenizer...\")\n",
    "tokenizer = AutoTokenizer.from_pretrained(model_name, trust_remote_code=True)\n",
    "\n",
    "print(\"Loading model...\")\n",
    "model = AutoModelForCausalLM.from_pretrained(\n",
    "    model_name,\n",
    "    device_map=\"auto\",\n",
    "    torch_dtype=torch.float16,\n",
    "    trust_remote_code=True\n",
    ")\n",
    "\n",
    "model.eval()\n",
    "print(\"Qwen 1.5-1.8B ready\")\n"
   ]
  },
  {
   "cell_type": "code",
   "execution_count": 2,
   "id": "b758e912-e887-446f-be25-1a20d676983e",
   "metadata": {},
   "outputs": [
    {
     "data": {
      "text/plain": [
       "True"
      ]
     },
     "execution_count": 2,
     "metadata": {},
     "output_type": "execute_result"
    }
   ],
   "source": [
    "import torch\n",
    "torch.cuda.is_available()\n"
   ]
  },
  {
   "cell_type": "code",
   "execution_count": 5,
   "id": "7f73fbff-c3d9-4c2e-8777-26ca2882bbbd",
   "metadata": {},
   "outputs": [
    {
     "name": "stdout",
     "output_type": "stream",
     "text": [
      "/taiga/illinois/eng/cs/juliahmr/jinulee/ojas/env/bin/python\n"
     ]
    }
   ],
   "source": [
    "!which python"
   ]
  },
  {
   "cell_type": "code",
   "execution_count": 3,
   "id": "945994f2-d5cd-46ab-8d8c-a4756100ed37",
   "metadata": {},
   "outputs": [
    {
     "name": "stdout",
     "output_type": "stream",
     "text": [
      "{'question': 'Which of the following best describes the balance the Supreme Court has struck between the establishment clause and the free-exercise clause?', 'choices': ['Freedom of speech is protected except in certain situations, such as yelling \"fire\" in a crowded theater.', 'Once a church has been recognized by the federal government, its tax-exempt status can never be revoked.', 'Once Congress has created an administrative agency, that agency can be dissolved only by a constitutional amendment.', 'State-sponsored prayer during school hours is prohibited, but voluntary prayer by student groups before school is allowed.'], 'answer': 3}\n"
     ]
    }
   ],
   "source": [
    "from datasets import load_dataset\n",
    "\n",
    "# Load the subject split\n",
    "dataset = load_dataset(\n",
    "    \"tasksource/mmlu\",\n",
    "    name=\"high_school_government_and_politics\",\n",
    "    split=\"test\"\n",
    ")\n",
    "\n",
    "# Print one example\n",
    "print(dataset[0])\n"
   ]
  },
  {
   "cell_type": "code",
   "execution_count": 6,
   "id": "029caec5-d7f1-4a7e-802b-6603014673ab",
   "metadata": {},
   "outputs": [],
   "source": [
    "def format_prompt(example):\n",
    "    question = example[\"question\"]\n",
    "    choices = example[\"choices\"]\n",
    "    labels = [\"A\", \"B\", \"C\", \"D\"]\n",
    "    lettered_choices = [f\"{label}. {text}\" for label, text in zip(labels, choices)]\n",
    "    joined = \"\\n\".join(lettered_choices)\n",
    "    prompt = f\"{question}\\n{joined}\\nAnswer:\"\n",
    "    return prompt\n",
    "\n"
   ]
  },
  {
   "cell_type": "code",
   "execution_count": 7,
   "id": "8a62ef45-50bd-42ca-9560-ed83b0000fe1",
   "metadata": {},
   "outputs": [
    {
     "name": "stdout",
     "output_type": "stream",
     "text": [
      "Which of the following best describes the balance the Supreme Court has struck between the establishment clause and the free-exercise clause?\n",
      "A. Freedom of speech is protected except in certain situations, such as yelling \"fire\" in a crowded theater.\n",
      "B. Once a church has been recognized by the federal government, its tax-exempt status can never be revoked.\n",
      "C. Once Congress has created an administrative agency, that agency can be dissolved only by a constitutional amendment.\n",
      "D. State-sponsored prayer during school hours is prohibited, but voluntary prayer by student groups before school is allowed.\n",
      "Answer:\n"
     ]
    }
   ],
   "source": [
    "print(format_prompt(dataset[0]))\n"
   ]
  },
  {
   "cell_type": "code",
   "execution_count": 8,
   "id": "42ab7957-fb2a-43ef-befa-554607160d1f",
   "metadata": {},
   "outputs": [],
   "source": [
    "def generate_completion(prompt, max_new_tokens=20, temperature=1.0, seed=None):\n",
    "    import torch\n",
    "    if seed is not None:\n",
    "        torch.manual_seed(seed)\n",
    "\n",
    "    input_ids = tokenizer(prompt, return_tensors=\"pt\").to(model.device)\n",
    "    output_ids = model.generate(\n",
    "        **input_ids,\n",
    "        max_new_tokens=max_new_tokens,\n",
    "        temperature=temperature,\n",
    "        do_sample=True,  # we want different paths\n",
    "        top_k=50,\n",
    "        top_p=0.95,\n",
    "        pad_token_id=tokenizer.eos_token_id\n",
    "    )\n",
    "    return tokenizer.decode(output_ids[0], skip_special_tokens=True)\n"
   ]
  },
  {
   "cell_type": "code",
   "execution_count": 9,
   "id": "4884eff6-35e9-4ff6-a13e-ad86487d236f",
   "metadata": {},
   "outputs": [
    {
     "name": "stdout",
     "output_type": "stream",
     "text": [
      "Completion 1:\n",
      " Which of the following best describes the balance the Supreme Court has struck between the establishment clause and the free-exercise clause?\n",
      "A. Freedom of speech is protected except in certain situations, such as yelling \"fire\" in a crowded theater.\n",
      "B. Once a church has been recognized by the federal government, its tax-exempt status can never be revoked.\n",
      "C. Once Congress has created an administrative agency, that agency can be dissolved only by a constitutional amendment.\n",
      "D. State-sponsored prayer during school hours is prohibited, but voluntary prayer by student groups before school is allowed.\n",
      "Answer: A\n",
      "\n",
      "Completion 2:\n",
      " Which of the following best describes the balance the Supreme Court has struck between the establishment clause and the free-exercise clause?\n",
      "A. Freedom of speech is protected except in certain situations, such as yelling \"fire\" in a crowded theater.\n",
      "B. Once a church has been recognized by the federal government, its tax-exempt status can never be revoked.\n",
      "C. Once Congress has created an administrative agency, that agency can be dissolved only by a constitutional amendment.\n",
      "D. State-sponsored prayer during school hours is prohibited, but voluntary prayer by student groups before school is allowed.\n",
      "Answer: \n",
      "A. Freedom of speech is protected except in certain situations, such as yelling \"fire\" in\n"
     ]
    }
   ],
   "source": [
    "prompt = format_prompt(dataset[0])\n",
    "output1 = generate_completion(prompt, seed=42)\n",
    "output2 = generate_completion(prompt, seed=123)\n",
    "\n",
    "print(\"Completion 1:\\n\", output1)\n",
    "print(\"\\nCompletion 2:\\n\", output2)\n"
   ]
  },
  {
   "cell_type": "code",
   "execution_count": 11,
   "id": "c5dca92a-8a8b-4638-8999-13d95a91cec2",
   "metadata": {},
   "outputs": [
    {
     "name": "stdout",
     "output_type": "stream",
     "text": [
      "[0] Fork at token: 115\n",
      "[1] Fork at token: 115\n",
      "[2] Fork at token: 56\n",
      "[3] Fork at token: -1\n",
      "[4] Fork at token: 66\n",
      "[5] Fork at token: 67\n",
      "[6] Fork at token: 50\n",
      "[7] Fork at token: 72\n",
      "[8] Fork at token: 70\n",
      "[9] Fork at token: -1\n"
     ]
    }
   ],
   "source": [
    "\n",
    "def find_forking_index(output1, output2):\n",
    "    tokens1 = tokenizer(output1, return_tensors=\"pt\")[\"input_ids\"][0]\n",
    "    tokens2 = tokenizer(output2, return_tensors=\"pt\")[\"input_ids\"][0]\n",
    "\n",
    "    min_len = min(len(tokens1), len(tokens2))\n",
    "    for i in range(min_len):\n",
    "        if tokens1[i] != tokens2[i]:\n",
    "            return i\n",
    "    return -1  # No fork found\n",
    "results = []\n",
    "\n",
    "for i in range(10):  # Start small with 10 examples\n",
    "    ex = dataset[i]\n",
    "    prompt = format_prompt(ex)\n",
    "\n",
    "    out1 = generate_completion(prompt, seed=42)\n",
    "    out2 = generate_completion(prompt, seed=123)\n",
    "\n",
    "    fork_idx = find_forking_index(out1, out2)\n",
    "\n",
    "    results.append({\n",
    "        \"question_id\": i,\n",
    "        \"prompt\": prompt,\n",
    "        \"completion_1\": out1,\n",
    "        \"completion_2\": out2,\n",
    "        \"forking_index\": fork_idx,\n",
    "        \"correct_answer\": ex[\"choices\"][ex[\"answer\"]]\n",
    "    })\n",
    "\n",
    "    print(f\"[{i}] Fork at token:\", fork_idx)\n"
   ]
  },
  {
   "cell_type": "code",
   "execution_count": 12,
   "id": "ef575d6a-cb96-4aac-b684-4dc6e2afb2cc",
   "metadata": {},
   "outputs": [],
   "source": [
    "import json\n",
    "import pandas as pd\n",
    "\n",
    "# Save to JSON \n",
    "with open(\"forking_results.json\", \"w\") as f:\n",
    "    json.dump(results, f, indent=2)\n",
    "\n",
    "# Save to CSV\n",
    "csv_friendly = [\n",
    "    {\n",
    "        \"question_id\": r[\"question_id\"],\n",
    "        \"prompt\": r[\"prompt\"],\n",
    "        \"completion_1\": r[\"completion_1\"].replace(\"\\n\", \" \"),\n",
    "        \"completion_2\": r[\"completion_2\"].replace(\"\\n\", \" \"),\n",
    "        \"forking_index\": r[\"forking_index\"],\n",
    "        \"correct_answer\": r[\"correct_answer\"]\n",
    "    }\n",
    "    for r in results\n",
    "]\n",
    "\n",
    "df = pd.DataFrame(csv_friendly)\n",
    "df.to_csv(\"forking_results.csv\", index=False)\n"
   ]
  },
  {
   "cell_type": "code",
   "execution_count": null,
   "id": "55b63d85-b0f1-41bd-a0cf-793c890c40e6",
   "metadata": {},
   "outputs": [],
   "source": []
  }
 ],
 "metadata": {
  "kernelspec": {
   "display_name": "Python 3 (ipykernel)",
   "language": "python",
   "name": "python3"
  },
  "language_info": {
   "codemirror_mode": {
    "name": "ipython",
    "version": 3
   },
   "file_extension": ".py",
   "mimetype": "text/x-python",
   "name": "python",
   "nbconvert_exporter": "python",
   "pygments_lexer": "ipython3",
   "version": "3.10.12"
  }
 },
 "nbformat": 4,
 "nbformat_minor": 5
}
