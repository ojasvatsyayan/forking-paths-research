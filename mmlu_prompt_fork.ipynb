{
 "cells": [
  {
   "cell_type": "code",
   "execution_count": null,
   "id": "dba1543c-2f76-45c3-88aa-021b50366720",
   "metadata": {},
   "outputs": [],
   "source": [
    "from transformers import AutoTokenizer, AutoModelForCausalLM\n",
    "import torch\n",
    "import torch.nn.functional as F\n",
    "\n",
    "\n",
    "model_name = \"Qwen/Qwen1.5-1.8B\"\n",
    "\n",
    "print(\"Loading tokenizer...\")\n",
    "tokenizer = AutoTokenizer.from_pretrained(model_name, trust_remote_code=True)\n",
    "\n",
    "print(\"Loading model...\")\n",
    "model = AutoModelForCausalLM.from_pretrained(\n",
    "    model_name,\n",
    "    device_map=\"auto\",\n",
    "    torch_dtype=torch.float16,\n",
    "    trust_remote_code=True\n",
    ")\n",
    "\n",
    "model.eval()\n",
    "print(\"Qwen 1.5-1.8B ready\")"
   ]
  },
  {
   "cell_type": "code",
   "execution_count": null,
   "id": "b11d8837-51a3-4ce7-aabb-5283619dbc74",
   "metadata": {},
   "outputs": [],
   "source": [
    "def generate_completion(prompt, max_new_tokens=20, temperature=1.0, seed=None):\n",
    "    import torch\n",
    "    if seed is not None:\n",
    "        torch.manual_seed(seed)\n",
    "\n",
    "    input_ids = tokenizer(prompt, return_tensors=\"pt\").to(model.device)\n",
    "    output_ids = model.generate(\n",
    "        **input_ids,\n",
    "        max_new_tokens=max_new_tokens,\n",
    "        temperature=temperature,\n",
    "        do_sample=True,  # we want different paths\n",
    "        top_k=50,\n",
    "        top_p=0.95,\n",
    "        pad_token_id=tokenizer.eos_token_id\n",
    "    )\n",
    "    return tokenizer.decode(output_ids[0], skip_special_tokens=True)"
   ]
  },
  {
   "cell_type": "code",
   "execution_count": null,
   "id": "33aa71db-c583-48c9-bfa4-cf67e9b433be",
   "metadata": {},
   "outputs": [],
   "source": [
    "def sample_fork_completions(prefix, alt_token, num_samples=10, max_new_tokens=100):\n",
    "    fork_prompt = prefix + alt_token\n",
    "    completions = []\n",
    "\n",
    "    for i in range(num_samples):\n",
    "        gen = generate_completion(\n",
    "            fork_prompt,\n",
    "            max_new_tokens=max_new_tokens,\n",
    "            temperature=1.0,\n",
    "            seed=None  # randomness enabled\n",
    "        )\n",
    "        completions.append(gen)\n",
    "\n",
    "    return {\n",
    "        \"fork_prompt\": fork_prompt,\n",
    "        \"prefix\": prefix,\n",
    "        \"alt_token\": alt_token,\n",
    "        \"completions\": completions\n",
    "    }"
   ]
  },
  {
   "cell_type": "code",
   "execution_count": null,
   "id": "d726bd35-6462-417b-9edf-d87630c9399d",
   "metadata": {},
   "outputs": [],
   "source": [
    "from datasets import load_dataset\n",
    "\n",
    "# Load the subject split\n",
    "dataset = load_dataset(\n",
    "    \"tasksource/mmlu\",\n",
    "    name=\"high_school_government_and_politics\",\n",
    "    split=\"test\"\n",
    ")\n",
    "\n",
    "# Print one example\n",
    "print(dataset[0])"
   ]
  },
  {
   "cell_type": "code",
   "execution_count": null,
   "id": "63e11865-e23e-4892-a24e-11e665807a29",
   "metadata": {},
   "outputs": [],
   "source": [
    "def format_prompt(example):\n",
    "    question = example[\"question\"]\n",
    "    choices = example[\"choices\"]\n",
    "    labels = [\"A\", \"B\", \"C\", \"D\"]\n",
    "    lettered_choices = [f\"{label}. {text}\" for label, text in zip(labels, choices)]\n",
    "    joined = \"\\n\".join(lettered_choices)\n",
    "    prompt = f\"{question}\\n{joined}\\nAnswer:\"\n",
    "    return prompt"
   ]
  },
  {
   "cell_type": "code",
   "execution_count": null,
   "id": "921dd277-dc9e-47e0-b2a7-b300c92908fa",
   "metadata": {},
   "outputs": [],
   "source": [
    "prompt = format_prompt(dataset[0])\n",
    "output1 = generate_completion(prompt, seed=42)\n",
    "output2 = generate_completion(prompt, seed=123)\n",
    "\n",
    "print(\"Completion 1:\\n\", output1)\n",
    "print(\"\\nCompletion 2:\\n\", output2)"
   ]
  }
 ],
 "metadata": {
  "kernelspec": {
   "display_name": "Python 3 (ipykernel)",
   "language": "python",
   "name": "python3"
  },
  "language_info": {
   "codemirror_mode": {
    "name": "ipython",
    "version": 3
   },
   "file_extension": ".py",
   "mimetype": "text/x-python",
   "name": "python",
   "nbconvert_exporter": "python",
   "pygments_lexer": "ipython3",
   "version": "3.10.12"
  }
 },
 "nbformat": 4,
 "nbformat_minor": 5
}
